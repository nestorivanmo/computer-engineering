{
 "metadata": {
  "language_info": {
   "codemirror_mode": {
    "name": "ipython",
    "version": 3
   },
   "file_extension": ".py",
   "mimetype": "text/x-python",
   "name": "python",
   "nbconvert_exporter": "python",
   "pygments_lexer": "ipython3",
   "version": "3.8.8-final"
  },
  "orig_nbformat": 2,
  "kernelspec": {
   "name": "python3",
   "display_name": "Python 3.8.8 64-bit",
   "metadata": {
    "interpreter": {
     "hash": "1ee38ef4a5a9feb55287fd749643f13d043cb0a7addaab2a9c224cbe137c0062"
    }
   }
  }
 },
 "nbformat": 4,
 "nbformat_minor": 2,
 "cells": [
  {
   "source": [
    "# Laboratorio 1: Bifid Cipher \n",
    "\n",
    "Martínez Ostoa Néstor Iván \n",
    "\n",
    "No.Cuenta: **315618648**\n",
    "\n",
    "---\n",
    "Criptografía - 2930\n",
    "\n",
    "Dra. Rocío Aldeco"
   ],
   "cell_type": "markdown",
   "metadata": {}
  },
  {
   "source": [
    "## 1. Describe step by step how you can decrypt a message using the Bifid cipher\n",
    "\n",
    "0. We must assume that we have the original tableau\n",
    "1. Using the tableu, we convert each letter of the ciphered text $C_i$ into its corresponding two number representation and store it in a string of numbers $E$\n",
    "2. We define an integer $n$ as the length of $E$: $n = |E|$\n",
    "3. Using the string $E$, we generate two more strings: $A$ and $B$. $A$ will contain the first $\\frac{n}{2}$ characters of $E$ and $B$ will contain the second $\\frac{n}{2}$ characters of $E$\n",
    "4. $A$ and $B$ strings have the same length, thus, we can iterate from $0 \\rightarrow \\frac{n}{2}-1$ using an index $i$ and build a new string $P$ as $P[i] = A[i] + B[i]$ where the $+$ operator is a character concatenator\n",
    "5. Using $P$, we iterate over it taking two steps on each iteration and for each two steps iteration, we use the tableu to build the original message $M$: $$ M = '\\;' \\\\ M += \\text{tableau}[P[i-1], P[i]]$$ where $i: 1 \\rightarrow \\frac{n}{2}-1$\n",
    "6. $M$ is the original message"
   ],
   "cell_type": "markdown",
   "metadata": {}
  },
  {
   "source": [
    "## 2. Use the Bifid cipher with the tableau as given to perform the follwing actions\n",
    "\n",
    "### a. Encrypt \"BRING ALL YOUR MONEY\"\n",
    "\n",
    "### b. Decrypt \"PDRRNGBENOPNIAGGF\""
   ],
   "cell_type": "markdown",
   "metadata": {}
  },
  {
   "source": [
    "## 3. Bifid pseudocode\n",
    "\n",
    "### 3.1 Encryption\n",
    "\n",
    "\n",
    "### 3.2 Decryption"
   ],
   "cell_type": "markdown",
   "metadata": {}
  },
  {
   "source": [
    "## 4. Biffid Pyhton implementation"
   ],
   "cell_type": "markdown",
   "metadata": {}
  },
  {
   "cell_type": "code",
   "execution_count": null,
   "metadata": {},
   "outputs": [],
   "source": []
  }
 ]
}