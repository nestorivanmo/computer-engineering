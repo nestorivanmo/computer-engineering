{
 "metadata": {
  "language_info": {
   "codemirror_mode": {
    "name": "ipython",
    "version": 3
   },
   "file_extension": ".py",
   "mimetype": "text/x-python",
   "name": "python",
   "nbconvert_exporter": "python",
   "pygments_lexer": "ipython3",
   "version": "3.8.8-final"
  },
  "orig_nbformat": 2,
  "kernelspec": {
   "name": "python3",
   "display_name": "Python 3",
   "language": "python"
  }
 },
 "nbformat": 4,
 "nbformat_minor": 2,
 "cells": [
  {
   "source": [
    "# Laboratorio 1: Bifid Cipher \n",
    "\n",
    "Martínez Ostoa Néstor Iván \n",
    "\n",
    "No.Cuenta: **315618648**\n",
    "\n",
    "---\n",
    "Criptografía - 2930\n",
    "\n",
    "Dra. Rocío Aldeco"
   ],
   "cell_type": "markdown",
   "metadata": {}
  },
  {
   "source": [
    "## 1. Describe step by step how you can decrypt a message using the Bifid cipher\n",
    "\n",
    "0. We must assume that we have the original tableau\n",
    "1. Using the tableu, we convert each letter of the ciphered text $C_i$ into its corresponding two number representation and store it in a string of numbers $E$\n",
    "2. We define an integer $n$ as the length of $E$: $n = |E|$\n",
    "3. Using the string $E$, we generate two more strings: $A$ and $B$. $A$ will contain the first $\\frac{n}{2}$ characters of $E$ and $B$ will contain the second $\\frac{n}{2}$ characters of $E$\n",
    "4. $A$ and $B$ strings have the same length, thus, we can iterate from $0 \\rightarrow \\frac{n}{2}-1$ using an index $i$ and build a new string $P$ as $P[i] = A[i] + B[i]$ where the $+$ operator is a character concatenator\n",
    "5. Using $P$, we iterate over it taking two steps on each iteration and for each two steps iteration, we use the tableu to build the original message $M$: $$ M = '\\;' \\\\ M += \\text{tableau}[P[i-1], P[i]]$$ where $i: 1 \\rightarrow \\frac{n}{2}-1$\n",
    "6. $M$ is the original message"
   ],
   "cell_type": "markdown",
   "metadata": {}
  },
  {
   "source": [
    "## 2. Use the Bifid cipher with the tableau as given to perform the follwing actions\n",
    "\n",
    "### a. Encrypt \"BRING ALL YOUR MONEY\"\n",
    "\n",
    "PFGQRUQERQTFYFMGY\n",
    "\n",
    "### b. Decrypt \"PDRRNGBENOPNIAGGF\"\n",
    "\n",
    "TRAVEL NORTH AT ONCE"
   ],
   "cell_type": "markdown",
   "metadata": {}
  },
  {
   "source": [
    "## 3. Bifid pseudocode\n",
    "\n",
    "### 3.1 Encryption\n",
    "```\n",
    "/*\n",
    "    Input: \n",
    "        - <String> M: message to cipher\n",
    "        - <Array> tableau: 2D array\n",
    "    Output: \n",
    "        - <String> C: ciphered message\n",
    "*/\n",
    "String bifid_encryption(String M, Array tableau) {\n",
    "    M <- lower(M)       //transform M to lower case\n",
    "    A <- ''\n",
    "    B <- ''\n",
    "    for letter in M {\n",
    "        a, b <- -1\n",
    "        for row in tableau.rows() {\n",
    "            for col in tableau.cols() {\n",
    "                if tableau[row][col] == letter {\n",
    "                    a <- row\n",
    "                    b <- col\n",
    "                    return\n",
    "                }\n",
    "            }\n",
    "        }\n",
    "        A += a\n",
    "        B += b\n",
    "    }\n",
    "    AB <- A + B // concatente A and B\n",
    "    C <- ''\n",
    "    for i from 1 to (length of A)-1 {\n",
    "        a <- A[i-1]\n",
    "        b <- A[i]\n",
    "        C += tableau[a][b]\n",
    "    }\n",
    "    return C\n",
    "}\n",
    "```\n",
    "\n",
    "### 3.2 Decryption\n",
    "```\n",
    "/*\n",
    "    Input: \n",
    "        - <String> M: ciphered message \n",
    "        - <Array> tableau: 2D array\n",
    "    Output: \n",
    "        - <String>: original decrypted message M\n",
    "*/\n",
    "String bifid_decryption(String C, Array tableau) {\n",
    "    M <- ''\n",
    "    A <- '' \n",
    "    B <- ''\n",
    "    for letter in C {\n",
    "        a <- b <- -1\n",
    "        for row in tableau.rows() {\n",
    "            for col in tableau.cols() {\n",
    "                if tableau[row][col] == letter {\n",
    "                    a <- row \n",
    "                    b <- col\n",
    "                    return\n",
    "                }\n",
    "            }\n",
    "        }\n",
    "        A += a\n",
    "        B += b\n",
    "    }\n",
    "    for i from 0 to length(A) - 1 {\n",
    "        a <- A[i]\n",
    "        b <- B[i]\n",
    "        M += tableau[a][b]\n",
    "    }\n",
    "    return M\n",
    "}\n",
    "```"
   ],
   "cell_type": "markdown",
   "metadata": {}
  },
  {
   "source": [
    "## 4. Bifid Pyhton implementation"
   ],
   "cell_type": "markdown",
   "metadata": {}
  },
  {
   "cell_type": "code",
   "execution_count": 9,
   "metadata": {},
   "outputs": [],
   "source": [
    "import numpy as np\n",
    "tableau = np.array([\n",
    "    ['e','n','c','r','y'],\n",
    "    ['p','t','a','b','d'], \n",
    "    ['f','g','h','i','k'],\n",
    "    ['l','m','o','q','s'],\n",
    "    ['u','v','w','x','z']\n",
    "])\n",
    "\n",
    "def get_a_b(M, tableau, decrypt=False): \n",
    "    A = B = ''\n",
    "    should_stop = False\n",
    "    for letter in M:\n",
    "        a = b = -1 \n",
    "        should_stop = False\n",
    "        for row in range(tableau.shape[0]):\n",
    "            for col in range(tableau.shape[1]):\n",
    "                if tableau[row][col] == letter:\n",
    "                    a = row\n",
    "                    b = col\n",
    "                    should_stop = True\n",
    "                if should_stop:\n",
    "                    break\n",
    "            if should_stop:\n",
    "                break\n",
    "        if decrypt:\n",
    "            A += str(a) + str(b)\n",
    "        else:\n",
    "            A += str(a)\n",
    "            B += str(b)\n",
    "    return A if decrypt else A + B \n",
    "\n",
    "def bifid_encryption(M, tableau):\n",
    "    M = M.lower().replace(' ', '')\n",
    "    AB = get_a_b(M, tableau)\n",
    "    C = ''\n",
    "    for i in range(1, len(AB), 2):\n",
    "        a = int(AB[i-1])\n",
    "        b = int(AB[i])\n",
    "        C += tableau[a][b]\n",
    "    return C.upper()\n",
    "\n",
    "def bifid_decryption(C, tableau):\n",
    "    M = ''\n",
    "    AB = get_a_b(C.lower().replace(' ', ''), tableau, decrypt=True)\n",
    "    A = AB[:len(AB)//2]\n",
    "    B = AB[len(AB)//2:]\n",
    "    for i in range(len(A)):\n",
    "        a = int(A[i])\n",
    "        b = int(B[i])\n",
    "        M += tableau[a][b]\n",
    "    return M.upper()\n"
   ]
  },
  {
   "cell_type": "code",
   "execution_count": 10,
   "metadata": {},
   "outputs": [
    {
     "output_type": "stream",
     "name": "stdout",
     "text": [
      "meet me on friday -> LNLLFGPPNPGRSK\n"
     ]
    }
   ],
   "source": [
    "M = 'meet me on friday'\n",
    "C = bifid_encryption(M, tableau)\n",
    "print(M, '->', C)"
   ]
  },
  {
   "cell_type": "code",
   "execution_count": 11,
   "metadata": {},
   "outputs": [
    {
     "output_type": "stream",
     "name": "stdout",
     "text": [
      "LNLLFGPPNPGRSK -> MEETMEONFRIDAY\n"
     ]
    }
   ],
   "source": [
    "M1 = bifid_decryption(C, tableau)\n",
    "print(C, '->', M1)"
   ]
  },
  {
   "source": [
    "## 5. Test cases"
   ],
   "cell_type": "markdown",
   "metadata": {}
  },
  {
   "cell_type": "code",
   "execution_count": 12,
   "metadata": {},
   "outputs": [
    {
     "output_type": "stream",
     "name": "stdout",
     "text": [
      "C: PDRRNGBENOPNIAGGF \tM: TRAVELNORTHATONCE\nC: LNLLFGPPNPGRSK \tM: MEETMEONFRIDAY\n"
     ]
    }
   ],
   "source": [
    "dec_msgs = [\"PDRRNGBENOPNIAGGF\", \"LNLLFGPPNPGRSK\"]\n",
    "for C in dec_msgs:\n",
    "    print(f'C: {C} \\tM: {bifid_decryption(C, tableau)}')"
   ]
  },
  {
   "cell_type": "code",
   "execution_count": 15,
   "metadata": {},
   "outputs": [
    {
     "output_type": "stream",
     "name": "stdout",
     "text": [
      "M: MEET ME ON FRIDAY \tC: LNLLFGPPNPGRSK\nM: TRAVEL NORTH AT ONCE \tC: PDRRNGBENOPNIAGGF\n"
     ]
    }
   ],
   "source": [
    "enc_msgs = [\"MEET ME ON FRIDAY\", \"TRAVEL NORTH AT ONCE\"]\n",
    "for M in enc_msgs:\n",
    "    print(f'M: {M} \\tC: {bifid_encryption(M, tableau)}')"
   ]
  },
  {
   "cell_type": "code",
   "execution_count": null,
   "metadata": {},
   "outputs": [],
   "source": []
  }
 ]
}